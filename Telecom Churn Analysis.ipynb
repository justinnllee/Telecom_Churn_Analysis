{
 "cells": [
  {
   "cell_type": "markdown",
   "metadata": {},
   "source": [
    "# Business Understanding"
   ]
  },
  {
   "cell_type": "markdown",
   "metadata": {},
   "source": [
    "Justin Lee\n",
    "\n",
    "This notebook is prepared for SyriaTel, a leading mobile telecommunications company in Syria since 2000. The company aims to minimize revenue losses caused by customers who discontinue their services prematurely. This analysis seeks to identify and understand patterns that may predict customer churn."
   ]
  },
  {
   "cell_type": "markdown",
   "metadata": {},
   "source": [
    "# Data Understanding"
   ]
  },
  {
   "cell_type": "markdown",
   "metadata": {},
   "source": [
    "This dataset is from SyriaTel and tells the churn rate of customers across. This dataset contains 20 predictor variables mostly about customer usage patterns. There are 3333 records in this dataset, out of which 483 customers are churners and the remaining 2850 are non-churners. The ratio of churners in this dataset is 14%.\n",
    "\n",
    "An important initial limitation to note here is the class imbalance of churn/non-churners."
   ]
  },
  {
   "cell_type": "code",
   "execution_count": 1,
   "metadata": {},
   "outputs": [],
   "source": [
    "import pandas as pd\n",
    "\n",
    "# Read in CSV file\n",
    "df = pd.read_csv(\"SyriaTel_Customer_Churn.csv\", index_col=0)"
   ]
  },
  {
   "cell_type": "code",
   "execution_count": 2,
   "metadata": {
    "scrolled": true
   },
   "outputs": [
    {
     "data": {
      "text/html": [
       "<div>\n",
       "<style scoped>\n",
       "    .dataframe tbody tr th:only-of-type {\n",
       "        vertical-align: middle;\n",
       "    }\n",
       "\n",
       "    .dataframe tbody tr th {\n",
       "        vertical-align: top;\n",
       "    }\n",
       "\n",
       "    .dataframe thead th {\n",
       "        text-align: right;\n",
       "    }\n",
       "</style>\n",
       "<table border=\"1\" class=\"dataframe\">\n",
       "  <thead>\n",
       "    <tr style=\"text-align: right;\">\n",
       "      <th></th>\n",
       "      <th>account length</th>\n",
       "      <th>area code</th>\n",
       "      <th>phone number</th>\n",
       "      <th>international plan</th>\n",
       "      <th>voice mail plan</th>\n",
       "      <th>number vmail messages</th>\n",
       "      <th>total day minutes</th>\n",
       "      <th>total day calls</th>\n",
       "      <th>total day charge</th>\n",
       "      <th>total eve minutes</th>\n",
       "      <th>total eve calls</th>\n",
       "      <th>total eve charge</th>\n",
       "      <th>total night minutes</th>\n",
       "      <th>total night calls</th>\n",
       "      <th>total night charge</th>\n",
       "      <th>total intl minutes</th>\n",
       "      <th>total intl calls</th>\n",
       "      <th>total intl charge</th>\n",
       "      <th>customer service calls</th>\n",
       "      <th>churn</th>\n",
       "    </tr>\n",
       "    <tr>\n",
       "      <th>state</th>\n",
       "      <th></th>\n",
       "      <th></th>\n",
       "      <th></th>\n",
       "      <th></th>\n",
       "      <th></th>\n",
       "      <th></th>\n",
       "      <th></th>\n",
       "      <th></th>\n",
       "      <th></th>\n",
       "      <th></th>\n",
       "      <th></th>\n",
       "      <th></th>\n",
       "      <th></th>\n",
       "      <th></th>\n",
       "      <th></th>\n",
       "      <th></th>\n",
       "      <th></th>\n",
       "      <th></th>\n",
       "      <th></th>\n",
       "      <th></th>\n",
       "    </tr>\n",
       "  </thead>\n",
       "  <tbody>\n",
       "    <tr>\n",
       "      <th>KS</th>\n",
       "      <td>128</td>\n",
       "      <td>415</td>\n",
       "      <td>382-4657</td>\n",
       "      <td>no</td>\n",
       "      <td>yes</td>\n",
       "      <td>25</td>\n",
       "      <td>265.1</td>\n",
       "      <td>110</td>\n",
       "      <td>45.07</td>\n",
       "      <td>197.4</td>\n",
       "      <td>99</td>\n",
       "      <td>16.78</td>\n",
       "      <td>244.7</td>\n",
       "      <td>91</td>\n",
       "      <td>11.01</td>\n",
       "      <td>10.0</td>\n",
       "      <td>3</td>\n",
       "      <td>2.70</td>\n",
       "      <td>1</td>\n",
       "      <td>False</td>\n",
       "    </tr>\n",
       "    <tr>\n",
       "      <th>OH</th>\n",
       "      <td>107</td>\n",
       "      <td>415</td>\n",
       "      <td>371-7191</td>\n",
       "      <td>no</td>\n",
       "      <td>yes</td>\n",
       "      <td>26</td>\n",
       "      <td>161.6</td>\n",
       "      <td>123</td>\n",
       "      <td>27.47</td>\n",
       "      <td>195.5</td>\n",
       "      <td>103</td>\n",
       "      <td>16.62</td>\n",
       "      <td>254.4</td>\n",
       "      <td>103</td>\n",
       "      <td>11.45</td>\n",
       "      <td>13.7</td>\n",
       "      <td>3</td>\n",
       "      <td>3.70</td>\n",
       "      <td>1</td>\n",
       "      <td>False</td>\n",
       "    </tr>\n",
       "    <tr>\n",
       "      <th>NJ</th>\n",
       "      <td>137</td>\n",
       "      <td>415</td>\n",
       "      <td>358-1921</td>\n",
       "      <td>no</td>\n",
       "      <td>no</td>\n",
       "      <td>0</td>\n",
       "      <td>243.4</td>\n",
       "      <td>114</td>\n",
       "      <td>41.38</td>\n",
       "      <td>121.2</td>\n",
       "      <td>110</td>\n",
       "      <td>10.30</td>\n",
       "      <td>162.6</td>\n",
       "      <td>104</td>\n",
       "      <td>7.32</td>\n",
       "      <td>12.2</td>\n",
       "      <td>5</td>\n",
       "      <td>3.29</td>\n",
       "      <td>0</td>\n",
       "      <td>False</td>\n",
       "    </tr>\n",
       "    <tr>\n",
       "      <th>OH</th>\n",
       "      <td>84</td>\n",
       "      <td>408</td>\n",
       "      <td>375-9999</td>\n",
       "      <td>yes</td>\n",
       "      <td>no</td>\n",
       "      <td>0</td>\n",
       "      <td>299.4</td>\n",
       "      <td>71</td>\n",
       "      <td>50.90</td>\n",
       "      <td>61.9</td>\n",
       "      <td>88</td>\n",
       "      <td>5.26</td>\n",
       "      <td>196.9</td>\n",
       "      <td>89</td>\n",
       "      <td>8.86</td>\n",
       "      <td>6.6</td>\n",
       "      <td>7</td>\n",
       "      <td>1.78</td>\n",
       "      <td>2</td>\n",
       "      <td>False</td>\n",
       "    </tr>\n",
       "    <tr>\n",
       "      <th>OK</th>\n",
       "      <td>75</td>\n",
       "      <td>415</td>\n",
       "      <td>330-6626</td>\n",
       "      <td>yes</td>\n",
       "      <td>no</td>\n",
       "      <td>0</td>\n",
       "      <td>166.7</td>\n",
       "      <td>113</td>\n",
       "      <td>28.34</td>\n",
       "      <td>148.3</td>\n",
       "      <td>122</td>\n",
       "      <td>12.61</td>\n",
       "      <td>186.9</td>\n",
       "      <td>121</td>\n",
       "      <td>8.41</td>\n",
       "      <td>10.1</td>\n",
       "      <td>3</td>\n",
       "      <td>2.73</td>\n",
       "      <td>3</td>\n",
       "      <td>False</td>\n",
       "    </tr>\n",
       "  </tbody>\n",
       "</table>\n",
       "</div>"
      ],
      "text/plain": [
       "       account length  area code phone number international plan  \\\n",
       "state                                                              \n",
       "KS                128        415     382-4657                 no   \n",
       "OH                107        415     371-7191                 no   \n",
       "NJ                137        415     358-1921                 no   \n",
       "OH                 84        408     375-9999                yes   \n",
       "OK                 75        415     330-6626                yes   \n",
       "\n",
       "      voice mail plan  number vmail messages  total day minutes  \\\n",
       "state                                                             \n",
       "KS                yes                     25              265.1   \n",
       "OH                yes                     26              161.6   \n",
       "NJ                 no                      0              243.4   \n",
       "OH                 no                      0              299.4   \n",
       "OK                 no                      0              166.7   \n",
       "\n",
       "       total day calls  total day charge  total eve minutes  total eve calls  \\\n",
       "state                                                                          \n",
       "KS                 110             45.07              197.4               99   \n",
       "OH                 123             27.47              195.5              103   \n",
       "NJ                 114             41.38              121.2              110   \n",
       "OH                  71             50.90               61.9               88   \n",
       "OK                 113             28.34              148.3              122   \n",
       "\n",
       "       total eve charge  total night minutes  total night calls  \\\n",
       "state                                                             \n",
       "KS                16.78                244.7                 91   \n",
       "OH                16.62                254.4                103   \n",
       "NJ                10.30                162.6                104   \n",
       "OH                 5.26                196.9                 89   \n",
       "OK                12.61                186.9                121   \n",
       "\n",
       "       total night charge  total intl minutes  total intl calls  \\\n",
       "state                                                             \n",
       "KS                  11.01                10.0                 3   \n",
       "OH                  11.45                13.7                 3   \n",
       "NJ                   7.32                12.2                 5   \n",
       "OH                   8.86                 6.6                 7   \n",
       "OK                   8.41                10.1                 3   \n",
       "\n",
       "       total intl charge  customer service calls  churn  \n",
       "state                                                    \n",
       "KS                  2.70                       1  False  \n",
       "OH                  3.70                       1  False  \n",
       "NJ                  3.29                       0  False  \n",
       "OH                  1.78                       2  False  \n",
       "OK                  2.73                       3  False  "
      ]
     },
     "execution_count": 2,
     "metadata": {},
     "output_type": "execute_result"
    }
   ],
   "source": [
    "# Preview first few rows of our dataframe\n",
    "df.head()"
   ]
  },
  {
   "cell_type": "code",
   "execution_count": 3,
   "metadata": {},
   "outputs": [
    {
     "data": {
      "text/html": [
       "<div>\n",
       "<style scoped>\n",
       "    .dataframe tbody tr th:only-of-type {\n",
       "        vertical-align: middle;\n",
       "    }\n",
       "\n",
       "    .dataframe tbody tr th {\n",
       "        vertical-align: top;\n",
       "    }\n",
       "\n",
       "    .dataframe thead th {\n",
       "        text-align: right;\n",
       "    }\n",
       "</style>\n",
       "<table border=\"1\" class=\"dataframe\">\n",
       "  <thead>\n",
       "    <tr style=\"text-align: right;\">\n",
       "      <th></th>\n",
       "      <th>account length</th>\n",
       "      <th>area code</th>\n",
       "      <th>number vmail messages</th>\n",
       "      <th>total day minutes</th>\n",
       "      <th>total day calls</th>\n",
       "      <th>total day charge</th>\n",
       "      <th>total eve minutes</th>\n",
       "      <th>total eve calls</th>\n",
       "      <th>total eve charge</th>\n",
       "      <th>total night minutes</th>\n",
       "      <th>total night calls</th>\n",
       "      <th>total night charge</th>\n",
       "      <th>total intl minutes</th>\n",
       "      <th>total intl calls</th>\n",
       "      <th>total intl charge</th>\n",
       "      <th>customer service calls</th>\n",
       "    </tr>\n",
       "  </thead>\n",
       "  <tbody>\n",
       "    <tr>\n",
       "      <th>count</th>\n",
       "      <td>3333.000000</td>\n",
       "      <td>3333.000000</td>\n",
       "      <td>3333.000000</td>\n",
       "      <td>3333.000000</td>\n",
       "      <td>3333.000000</td>\n",
       "      <td>3333.000000</td>\n",
       "      <td>3333.000000</td>\n",
       "      <td>3333.000000</td>\n",
       "      <td>3333.000000</td>\n",
       "      <td>3333.000000</td>\n",
       "      <td>3333.000000</td>\n",
       "      <td>3333.000000</td>\n",
       "      <td>3333.000000</td>\n",
       "      <td>3333.000000</td>\n",
       "      <td>3333.000000</td>\n",
       "      <td>3333.000000</td>\n",
       "    </tr>\n",
       "    <tr>\n",
       "      <th>mean</th>\n",
       "      <td>101.064806</td>\n",
       "      <td>437.182418</td>\n",
       "      <td>8.099010</td>\n",
       "      <td>179.775098</td>\n",
       "      <td>100.435644</td>\n",
       "      <td>30.562307</td>\n",
       "      <td>200.980348</td>\n",
       "      <td>100.114311</td>\n",
       "      <td>17.083540</td>\n",
       "      <td>200.872037</td>\n",
       "      <td>100.107711</td>\n",
       "      <td>9.039325</td>\n",
       "      <td>10.237294</td>\n",
       "      <td>4.479448</td>\n",
       "      <td>2.764581</td>\n",
       "      <td>1.562856</td>\n",
       "    </tr>\n",
       "    <tr>\n",
       "      <th>std</th>\n",
       "      <td>39.822106</td>\n",
       "      <td>42.371290</td>\n",
       "      <td>13.688365</td>\n",
       "      <td>54.467389</td>\n",
       "      <td>20.069084</td>\n",
       "      <td>9.259435</td>\n",
       "      <td>50.713844</td>\n",
       "      <td>19.922625</td>\n",
       "      <td>4.310668</td>\n",
       "      <td>50.573847</td>\n",
       "      <td>19.568609</td>\n",
       "      <td>2.275873</td>\n",
       "      <td>2.791840</td>\n",
       "      <td>2.461214</td>\n",
       "      <td>0.753773</td>\n",
       "      <td>1.315491</td>\n",
       "    </tr>\n",
       "    <tr>\n",
       "      <th>min</th>\n",
       "      <td>1.000000</td>\n",
       "      <td>408.000000</td>\n",
       "      <td>0.000000</td>\n",
       "      <td>0.000000</td>\n",
       "      <td>0.000000</td>\n",
       "      <td>0.000000</td>\n",
       "      <td>0.000000</td>\n",
       "      <td>0.000000</td>\n",
       "      <td>0.000000</td>\n",
       "      <td>23.200000</td>\n",
       "      <td>33.000000</td>\n",
       "      <td>1.040000</td>\n",
       "      <td>0.000000</td>\n",
       "      <td>0.000000</td>\n",
       "      <td>0.000000</td>\n",
       "      <td>0.000000</td>\n",
       "    </tr>\n",
       "    <tr>\n",
       "      <th>25%</th>\n",
       "      <td>74.000000</td>\n",
       "      <td>408.000000</td>\n",
       "      <td>0.000000</td>\n",
       "      <td>143.700000</td>\n",
       "      <td>87.000000</td>\n",
       "      <td>24.430000</td>\n",
       "      <td>166.600000</td>\n",
       "      <td>87.000000</td>\n",
       "      <td>14.160000</td>\n",
       "      <td>167.000000</td>\n",
       "      <td>87.000000</td>\n",
       "      <td>7.520000</td>\n",
       "      <td>8.500000</td>\n",
       "      <td>3.000000</td>\n",
       "      <td>2.300000</td>\n",
       "      <td>1.000000</td>\n",
       "    </tr>\n",
       "    <tr>\n",
       "      <th>50%</th>\n",
       "      <td>101.000000</td>\n",
       "      <td>415.000000</td>\n",
       "      <td>0.000000</td>\n",
       "      <td>179.400000</td>\n",
       "      <td>101.000000</td>\n",
       "      <td>30.500000</td>\n",
       "      <td>201.400000</td>\n",
       "      <td>100.000000</td>\n",
       "      <td>17.120000</td>\n",
       "      <td>201.200000</td>\n",
       "      <td>100.000000</td>\n",
       "      <td>9.050000</td>\n",
       "      <td>10.300000</td>\n",
       "      <td>4.000000</td>\n",
       "      <td>2.780000</td>\n",
       "      <td>1.000000</td>\n",
       "    </tr>\n",
       "    <tr>\n",
       "      <th>75%</th>\n",
       "      <td>127.000000</td>\n",
       "      <td>510.000000</td>\n",
       "      <td>20.000000</td>\n",
       "      <td>216.400000</td>\n",
       "      <td>114.000000</td>\n",
       "      <td>36.790000</td>\n",
       "      <td>235.300000</td>\n",
       "      <td>114.000000</td>\n",
       "      <td>20.000000</td>\n",
       "      <td>235.300000</td>\n",
       "      <td>113.000000</td>\n",
       "      <td>10.590000</td>\n",
       "      <td>12.100000</td>\n",
       "      <td>6.000000</td>\n",
       "      <td>3.270000</td>\n",
       "      <td>2.000000</td>\n",
       "    </tr>\n",
       "    <tr>\n",
       "      <th>max</th>\n",
       "      <td>243.000000</td>\n",
       "      <td>510.000000</td>\n",
       "      <td>51.000000</td>\n",
       "      <td>350.800000</td>\n",
       "      <td>165.000000</td>\n",
       "      <td>59.640000</td>\n",
       "      <td>363.700000</td>\n",
       "      <td>170.000000</td>\n",
       "      <td>30.910000</td>\n",
       "      <td>395.000000</td>\n",
       "      <td>175.000000</td>\n",
       "      <td>17.770000</td>\n",
       "      <td>20.000000</td>\n",
       "      <td>20.000000</td>\n",
       "      <td>5.400000</td>\n",
       "      <td>9.000000</td>\n",
       "    </tr>\n",
       "  </tbody>\n",
       "</table>\n",
       "</div>"
      ],
      "text/plain": [
       "       account length    area code  number vmail messages  total day minutes  \\\n",
       "count     3333.000000  3333.000000            3333.000000        3333.000000   \n",
       "mean       101.064806   437.182418               8.099010         179.775098   \n",
       "std         39.822106    42.371290              13.688365          54.467389   \n",
       "min          1.000000   408.000000               0.000000           0.000000   \n",
       "25%         74.000000   408.000000               0.000000         143.700000   \n",
       "50%        101.000000   415.000000               0.000000         179.400000   \n",
       "75%        127.000000   510.000000              20.000000         216.400000   \n",
       "max        243.000000   510.000000              51.000000         350.800000   \n",
       "\n",
       "       total day calls  total day charge  total eve minutes  total eve calls  \\\n",
       "count      3333.000000       3333.000000        3333.000000      3333.000000   \n",
       "mean        100.435644         30.562307         200.980348       100.114311   \n",
       "std          20.069084          9.259435          50.713844        19.922625   \n",
       "min           0.000000          0.000000           0.000000         0.000000   \n",
       "25%          87.000000         24.430000         166.600000        87.000000   \n",
       "50%         101.000000         30.500000         201.400000       100.000000   \n",
       "75%         114.000000         36.790000         235.300000       114.000000   \n",
       "max         165.000000         59.640000         363.700000       170.000000   \n",
       "\n",
       "       total eve charge  total night minutes  total night calls  \\\n",
       "count       3333.000000          3333.000000        3333.000000   \n",
       "mean          17.083540           200.872037         100.107711   \n",
       "std            4.310668            50.573847          19.568609   \n",
       "min            0.000000            23.200000          33.000000   \n",
       "25%           14.160000           167.000000          87.000000   \n",
       "50%           17.120000           201.200000         100.000000   \n",
       "75%           20.000000           235.300000         113.000000   \n",
       "max           30.910000           395.000000         175.000000   \n",
       "\n",
       "       total night charge  total intl minutes  total intl calls  \\\n",
       "count         3333.000000         3333.000000       3333.000000   \n",
       "mean             9.039325           10.237294          4.479448   \n",
       "std              2.275873            2.791840          2.461214   \n",
       "min              1.040000            0.000000          0.000000   \n",
       "25%              7.520000            8.500000          3.000000   \n",
       "50%              9.050000           10.300000          4.000000   \n",
       "75%             10.590000           12.100000          6.000000   \n",
       "max             17.770000           20.000000         20.000000   \n",
       "\n",
       "       total intl charge  customer service calls  \n",
       "count        3333.000000             3333.000000  \n",
       "mean            2.764581                1.562856  \n",
       "std             0.753773                1.315491  \n",
       "min             0.000000                0.000000  \n",
       "25%             2.300000                1.000000  \n",
       "50%             2.780000                1.000000  \n",
       "75%             3.270000                2.000000  \n",
       "max             5.400000                9.000000  "
      ]
     },
     "execution_count": 3,
     "metadata": {},
     "output_type": "execute_result"
    }
   ],
   "source": [
    "# Generate summary statistics of numerical columns of our dataframe\n",
    "df.describe()"
   ]
  },
  {
   "cell_type": "code",
   "execution_count": 4,
   "metadata": {},
   "outputs": [
    {
     "name": "stdout",
     "output_type": "stream",
     "text": [
      "account length              int64\n",
      "area code                   int64\n",
      "phone number               object\n",
      "international plan         object\n",
      "voice mail plan            object\n",
      "number vmail messages       int64\n",
      "total day minutes         float64\n",
      "total day calls             int64\n",
      "total day charge          float64\n",
      "total eve minutes         float64\n",
      "total eve calls             int64\n",
      "total eve charge          float64\n",
      "total night minutes       float64\n",
      "total night calls           int64\n",
      "total night charge        float64\n",
      "total intl minutes        float64\n",
      "total intl calls            int64\n",
      "total intl charge         float64\n",
      "customer service calls      int64\n",
      "churn                        bool\n",
      "dtype: object\n"
     ]
    }
   ],
   "source": [
    "# View the data types of the columns\n",
    "print(df.dtypes)"
   ]
  },
  {
   "cell_type": "code",
   "execution_count": 5,
   "metadata": {},
   "outputs": [
    {
     "data": {
      "text/plain": [
       "False    2850\n",
       "True      483\n",
       "Name: churn, dtype: int64"
      ]
     },
     "execution_count": 5,
     "metadata": {},
     "output_type": "execute_result"
    }
   ],
   "source": [
    "# Check for class imbalance\n",
    "df['churn'].value_counts()"
   ]
  },
  {
   "cell_type": "code",
   "execution_count": 6,
   "metadata": {},
   "outputs": [
    {
     "data": {
      "text/plain": [
       "account length            0\n",
       "area code                 0\n",
       "phone number              0\n",
       "international plan        0\n",
       "voice mail plan           0\n",
       "number vmail messages     0\n",
       "total day minutes         0\n",
       "total day calls           0\n",
       "total day charge          0\n",
       "total eve minutes         0\n",
       "total eve calls           0\n",
       "total eve charge          0\n",
       "total night minutes       0\n",
       "total night calls         0\n",
       "total night charge        0\n",
       "total intl minutes        0\n",
       "total intl calls          0\n",
       "total intl charge         0\n",
       "customer service calls    0\n",
       "churn                     0\n",
       "dtype: int64"
      ]
     },
     "execution_count": 6,
     "metadata": {},
     "output_type": "execute_result"
    }
   ],
   "source": [
    "# Check for missing/invalid values\n",
    "df.isnull().sum()"
   ]
  },
  {
   "cell_type": "code",
   "execution_count": 7,
   "metadata": {},
   "outputs": [
    {
     "name": "stdout",
     "output_type": "stream",
     "text": [
      "churn                     1.000000\n",
      "international plan_yes    0.259852\n",
      "customer service calls    0.208750\n",
      "total day minutes         0.205151\n",
      "total day charge          0.205151\n",
      "total eve minutes         0.092796\n",
      "total eve charge          0.092786\n",
      "total intl charge         0.068259\n",
      "total intl minutes        0.068239\n",
      "total night charge        0.035496\n",
      "total night minutes       0.035493\n",
      "total day calls           0.018459\n",
      "account length            0.016541\n",
      "total eve calls           0.009233\n",
      "area code                 0.006174\n",
      "total night calls         0.006141\n",
      "total intl calls         -0.052844\n",
      "number vmail messages    -0.089728\n",
      "voice mail plan_yes      -0.102148\n",
      "Name: churn, dtype: float64\n"
     ]
    }
   ],
   "source": [
    "# Transform categorical variables, calculate correlations, and identify most important variables related to churn\n",
    "df = pd.get_dummies(df, columns=['international plan', 'voice mail plan'], drop_first=True)\n",
    "df['churn'] = df['churn'].astype(int)\n",
    "correlations = df.corr()\n",
    "churn_correlations = correlations['churn'].sort_values(ascending=False)\n",
    "print(churn_correlations)"
   ]
  },
  {
   "cell_type": "markdown",
   "metadata": {},
   "source": [
    "The top three highest correlation to churn are international plans, customer service calls, and total day minutes.\n",
    "\n",
    "I'll be preparing my data to create a model that would predict if these three categories "
   ]
  },
  {
   "cell_type": "markdown",
   "metadata": {},
   "source": [
    "# Data Preparation"
   ]
  },
  {
   "cell_type": "markdown",
   "metadata": {},
   "source": [
    "In order to prepare our data for analysis, we must first import the train_test_split class to evaluate our model on unseen data. We will declare churn as our target variable and split the data into 70% training and 30% for testing. We will then ensure the numeric columns exclude our churn column to avoid data leakage, create a clear and unbiased correlation analysis, and to create more accurate modeling and evaluation."
   ]
  },
  {
   "cell_type": "code",
   "execution_count": 8,
   "metadata": {},
   "outputs": [],
   "source": [
    "# Import train_test_split to evaluate my model on unseen data\n",
    "from sklearn.model_selection import train_test_split\n",
    "\n",
    "# Our target variable is churn\n",
    "X = df.drop(columns=['churn'])\n",
    "y = df['churn']\n",
    "\n",
    "# Split the data (70% training, 30% testing)\n",
    "X_train, X_test, y_train, y_test = train_test_split(X, y, test_size=0.3, random_state=42)"
   ]
  },
  {
   "cell_type": "code",
   "execution_count": 9,
   "metadata": {},
   "outputs": [],
   "source": [
    "# Linear models & logistic regression require scaling\n",
    "from sklearn.preprocessing import StandardScaler\n",
    "\n",
    "# Ensure 'numeric_columns' excludes 'churn'\n",
    "numeric_columns = X.select_dtypes(include=['float64', 'int64']).columns\n",
    "\n",
    "# Scale only numeric columns\n",
    "scaler = StandardScaler()\n",
    "X_train_scaled = scaler.fit_transform(X_train[numeric_columns])\n",
    "X_test_scaled = scaler.transform(X_test[numeric_columns])"
   ]
  },
  {
   "cell_type": "markdown",
   "metadata": {},
   "source": [
    "# Modeling & Evaluation"
   ]
  },
  {
   "cell_type": "markdown",
   "metadata": {},
   "source": [
    "For our first model we will begin with logistic regression because it is simple, interpretable, efficient, and provides a reference point for model comparison. It sets the foundation for exploring more advanced models if additional complexity is justified by improved performance.\n",
    "\n",
    "To address the class imbalance noted earlier, we will use SMOTE (synthetic minority over-sampling technique). SMOTE is used in our iterated model to handle class imbalance, which improves the model's ability to detect the minority class (churn) and results in a more balanced and effective classifier.\n",
    "\n",
    "Both models will have an evaluation on the classification report, confusion matrix, ROC-AUC score, and a visualization of the ROC curve. The classification report shows us the precision, recall and F1-score for overall evaluation. The confusion matrix shows us the detailed error breakdown. The ROC-AUC score measures our classification power. The ROC curve is a visual representation of performance across thresholds."
   ]
  },
  {
   "cell_type": "markdown",
   "metadata": {},
   "source": [
    "### Baseline Model - Logistic Regression"
   ]
  },
  {
   "cell_type": "markdown",
   "metadata": {},
   "source": [
    "Now that we have our data in a train test split we will start training a logistic regression baseline model."
   ]
  },
  {
   "cell_type": "code",
   "execution_count": 10,
   "metadata": {},
   "outputs": [
    {
     "name": "stdout",
     "output_type": "stream",
     "text": [
      "Classification Report:\n",
      "               precision    recall  f1-score   support\n",
      "\n",
      "           0       0.87      0.99      0.92       857\n",
      "           1       0.58      0.08      0.14       143\n",
      "\n",
      "    accuracy                           0.86      1000\n",
      "   macro avg       0.72      0.53      0.53      1000\n",
      "weighted avg       0.82      0.86      0.81      1000\n",
      "\n",
      "Confusion Matrix:\n",
      " [[849   8]\n",
      " [132  11]]\n",
      "ROC-AUC Score: 0.7826863917879088\n"
     ]
    }
   ],
   "source": [
    "from sklearn.linear_model import LogisticRegression\n",
    "from sklearn.metrics import classification_report, confusion_matrix, roc_auc_score\n",
    "\n",
    "# Train the model\n",
    "logreg = LogisticRegression(random_state=42, max_iter=1000)\n",
    "logreg.fit(X_train_scaled, y_train)\n",
    "\n",
    "# Make predictions\n",
    "y_pred = logreg.predict(X_test_scaled)\n",
    "y_pred_prob = logreg.predict_proba(X_test_scaled)[:, 1]\n",
    "\n",
    "# Evaluate the model\n",
    "print(\"Classification Report:\\n\", classification_report(y_test, y_pred))\n",
    "print(\"Confusion Matrix:\\n\", confusion_matrix(y_test, y_pred))\n",
    "print(\"ROC-AUC Score:\", roc_auc_score(y_test, y_pred_prob))"
   ]
  },
  {
   "cell_type": "code",
   "execution_count": 11,
   "metadata": {
    "scrolled": false
   },
   "outputs": [
    {
     "data": {
      "image/png": "[encoded data removed]",
      "text/plain": [
       "<Figure size 432x288 with 1 Axes>"
      ]
     },
     "metadata": {
      "needs_background": "light"
     },
     "output_type": "display_data"
    }
   ],
   "source": [
    "from sklearn.metrics import roc_curve\n",
    "import matplotlib.pyplot as plt\n",
    "\n",
    "# Plot the ROC curve\n",
    "fpr, tpr, thresholds = roc_curve(y_test, y_pred_prob)\n",
    "plt.plot(fpr, tpr, label=\"Logistic Regression (AUC = {:.2f})\".format(roc_auc_score(y_test, y_pred_prob)))\n",
    "plt.xlabel(\"False Positive Rate\")\n",
    "plt.ylabel(\"True Positive Rate\")\n",
    "plt.title(\"ROC Curve\")\n",
    "plt.legend()\n",
    "plt.show()"
   ]
  },
  {
   "cell_type": "markdown",
   "metadata": {},
   "source": [
    "### Baseline Model Evaluation"
   ]
  },
  {
   "cell_type": "markdown",
   "metadata": {},
   "source": [
    "Our baseline model predicted an **accuracy score of 86%** of the total samples but this may be misleading due to imbalanced datasets. This score may be favoring the majority class because we saw that we have 857 samples for non-churn cases and only 143 samples for churn cases.\n",
    "\n",
    "**Non-churn cases**:\n",
    "A precision score of 87% means that out of all predictions made for non-churn, 87% were correct.\n",
    "A recall score of 99% means that our model correctly identified 99% of actual non-churn cases.\n",
    "An F1-score of 0.92 indicates excellent balance between precision and recall for the majority class.\n",
    "\n",
    "**Churn cases**:\n",
    "A precision score of 58% means that out of all predictions made for churn, only 58% were correct.\n",
    "A recall score of 8% means that our model correctly identified only 8% of actual churn cases.\n",
    "An F1-score of 0.14 indicates a poor performance for the minority class as both precision and recall are low.\n",
    "\n",
    "The **confusion matrix** provides additional insight:\n",
    "True Negatives (849): The model correctly predicted 849 non-churn instances.\n",
    "False Positives (8): Only 8 non-churn instances were incorrectly predicted as churn.\n",
    "False Negatives (132): A large number of churn cases were misclassified as non-churn.\n",
    "True Positives (11): Only 11 churn cases were correctly predicted.\n",
    "This highlights the model's strong bias toward the majority class.\n",
    "\n",
    "**ROC-AUC Score: 0.78**\n",
    "This indicates the model has a decent ability to rank positive samples higher than negative ones in terms of predicted probabilities. However, the low recall for churn cases suggests that the threshold for predicting churn may need adjustment.\n",
    "\n",
    "We will now iterate our model to oversample the minority class, thus reducing the class imbalance observed in our baseline model."
   ]
  },
  {
   "cell_type": "markdown",
   "metadata": {},
   "source": [
    "### Iterated Model - Address Class Imbalance"
   ]
  },
  {
   "cell_type": "markdown",
   "metadata": {},
   "source": [
    "We will oversample the minority class in the training data using SMOTE."
   ]
  },
  {
   "cell_type": "code",
   "execution_count": 12,
   "metadata": {},
   "outputs": [
    {
     "name": "stdout",
     "output_type": "stream",
     "text": [
      "Original training class distribution:\n",
      "0    1993\n",
      "1     340\n",
      "Name: churn, dtype: int64\n",
      "Resampled training class distribution:\n",
      "1    1993\n",
      "0    1993\n",
      "Name: churn, dtype: int64\n"
     ]
    }
   ],
   "source": [
    "from imblearn.over_sampling import SMOTE\n",
    "from sklearn.linear_model import LogisticRegression\n",
    "from sklearn.metrics import classification_report, roc_auc_score, confusion_matrix\n",
    "\n",
    "# Apply SMOTE to oversample the minority class\n",
    "smote = SMOTE(random_state=42)\n",
    "X_train_resampled, y_train_resampled = smote.fit_resample(X_train_scaled, y_train)\n",
    "\n",
    "print(f\"Original training class distribution:\\n{y_train.value_counts()}\")\n",
    "print(f\"Resampled training class distribution:\\n{pd.Series(y_train_resampled).value_counts()}\")"
   ]
  },
  {
   "cell_type": "markdown",
   "metadata": {},
   "source": [
    "Train a Logistic Regression on the resampled data."
   ]
  },
  {
   "cell_type": "code",
   "execution_count": 13,
   "metadata": {},
   "outputs": [
    {
     "data": {
      "text/plain": [
       "LogisticRegression(max_iter=1000, random_state=42)"
      ]
     },
     "execution_count": 13,
     "metadata": {},
     "output_type": "execute_result"
    }
   ],
   "source": [
    "# Train Logistic Regression on resampled data\n",
    "logreg_smote = LogisticRegression(random_state=42, max_iter=1000)\n",
    "logreg_smote.fit(X_train_resampled, y_train_resampled)"
   ]
  },
  {
   "cell_type": "code",
   "execution_count": 14,
   "metadata": {},
   "outputs": [
    {
     "name": "stdout",
     "output_type": "stream",
     "text": [
      "Classification Report (SMOTE):\n",
      "               precision    recall  f1-score   support\n",
      "\n",
      "           0       0.94      0.69      0.80       857\n",
      "           1       0.29      0.76      0.42       143\n",
      "\n",
      "    accuracy                           0.70      1000\n",
      "   macro avg       0.62      0.72      0.61      1000\n",
      "weighted avg       0.85      0.70      0.75      1000\n",
      "\n",
      "Confusion Matrix (SMOTE):\n",
      " [[595 262]\n",
      " [ 35 108]]\n",
      "ROC-AUC Score (SMOTE): 0.7784351004887762\n"
     ]
    }
   ],
   "source": [
    "# Predict on the test set\n",
    "y_pred_smote = logreg_smote.predict(X_test_scaled)\n",
    "y_pred_prob_smote = logreg_smote.predict_proba(X_test_scaled)[:, 1]\n",
    "\n",
    "# Classification Report\n",
    "print(\"Classification Report (SMOTE):\\n\", classification_report(y_test, y_pred_smote))\n",
    "\n",
    "# Confusion Matrix\n",
    "print(\"Confusion Matrix (SMOTE):\\n\", confusion_matrix(y_test, y_pred_smote))\n",
    "\n",
    "# ROC-AUC Score\n",
    "roc_auc = roc_auc_score(y_test, y_pred_prob_smote)\n",
    "print(\"ROC-AUC Score (SMOTE):\", roc_auc)"
   ]
  },
  {
   "cell_type": "code",
   "execution_count": 15,
   "metadata": {
    "scrolled": true
   },
   "outputs": [
    {
     "data": {
      "image/png": "[encoded data removed]",
      "text/plain": [
       "<Figure size 432x288 with 1 Axes>"
      ]
     },
     "metadata": {
      "needs_background": "light"
     },
     "output_type": "display_data"
    }
   ],
   "source": [
    "from sklearn.metrics import roc_curve\n",
    "import matplotlib.pyplot as plt\n",
    "\n",
    "# Plot the ROC Curve\n",
    "fpr, tpr, thresholds = roc_curve(y_test, y_pred_prob_smote)\n",
    "plt.plot(fpr, tpr, label=\"Logistic Regression (SMOTE) AUC = {:.2f}\".format(roc_auc))\n",
    "plt.xlabel(\"False Positive Rate\")\n",
    "plt.ylabel(\"True Positive Rate\")\n",
    "plt.title(\"ROC Curve\")\n",
    "plt.legend()\n",
    "plt.show()\n"
   ]
  },
  {
   "cell_type": "markdown",
   "metadata": {},
   "source": [
    "### Iterated Model Evaluation"
   ]
  },
  {
   "cell_type": "markdown",
   "metadata": {},
   "source": [
    "Our new model's **accuracy is 70%**. The overall accuracy decreased from the baseline model's 86%, but this is expected because the model is now focusing more on the minority class (churn). Accuracy is less important in this case, as we prioritize recall for churn.\n",
    "\n",
    "**Non-churn cases**: A precision score of 94% means that out of all predictions made for non-churn, 94% were correct. A recall score of 69% means that our model correctly identified 69% of actual non-churn cases. An F1-score of 0.8 indicates that despite a drop in recall the model still performs well for the majority class.\n",
    "\n",
    "**Churn cases**: A precision score of 29% means that out of all predictions made for churn, 29% were correct. This indicates a high false positive rate. A recall score of 76% tells us that the model correctly identified 76% of actual churn cases, a significant improvement over the baseline model's 8% recall. An F1-score of 0.42 shows an improvement over the baseline model's F1-score of 0.14 for churn cases. This indicates better balance between precision and recall.\n",
    "\n",
    "The **confusion matrix** provides more insights. True Negatives (595): The model correctly identified 595 non-churn cases. False Positives (262): The model incorrectly predicted 262 non-churn cases as churn, contributing to the drop in precision for non-churn cases. False Negatives (35): The model missed only 35 churn cases, a significant improvement over the baseline (132 false negatives). True Positives (108): The model correctly identified 108 churn cases, up from just 11 in the baseline model. This reflects a clear improvement in identifying churn cases, which aligns with the primary business objective.\n",
    "\n",
    "**ROC-AUC Score: 0.778** This is comparable to the baseline (0.782), showing that the model's overall ability to distinguish between churn and non-churn remains strong despite the adjustments for class imbalance."
   ]
  },
  {
   "cell_type": "markdown",
   "metadata": {},
   "source": [
    "# Conclusion"
   ]
  },
  {
   "cell_type": "markdown",
   "metadata": {},
   "source": [
    "Our baseline model had high accuracy of 86% but extremely poor recall of 8% for the minority class (churn). There was a strong bias toward the majority class (non-churn), leading to most churn cases being misclassified. Indicators of churn (international plans, customer service calls, total day minutes) were not effectively captured in predictions.\n",
    "\n",
    "Addressing class imbalance with SMOTE significantly improved recall for churn (from 8% to 76%), aligning better with the business goal of identifying churn cases. However, the precision for churn dropped to 29%, meaning many non-churn cases were misclassified as churn (false positives). The ROC-AUC remained consistent across models (~0.78), suggesting that the overall separability of classes was maintained.\n",
    "\n",
    "From the logistic regression coefficients and feature analysis there are some factors that can predict higher churn probabilities. Customers with international plans are more likely to churn. This could indiciate dissatisfaction with plan costs or perceived lack of value. A high number of customer service calls correlate with churn, likely reflecting customer dissatisfaction or unresolved issues. Additionally, customers with higher call usage (total day minutes) are more likely to churn. This could be due to higher bills or dissatisfaction with pricing.  \n",
    "\n",
    "This analysis highlights that churn is influenced by clear patterns, such as having an international plan or high customer service interactions. While the SMOTE-enhanced model improved recall for churn cases, further iterations (e.g., advanced models, threshold optimization) are needed to enhance precision and overall effectiveness. Combining these insights with retention strategies can significantly reduce churn rates and improve customer satisfaction."
   ]
  },
  {
   "cell_type": "markdown",
   "metadata": {},
   "source": [
    "# Limitations"
   ]
  },
  {
   "cell_type": "markdown",
   "metadata": {},
   "source": [
    "The dataset's inherent imbalance (857 non-churn vs. 143 churn) limits the model's ability to learn patterns for churn without intervention like SMOTE or class weighting.\n",
    "\n",
    "The iterated model prioritized recall for churn at the expense of precision, leading to high false positives. This could result in inefficient resource allocation for retention campaigns.\n",
    "\n",
    "The models assumed linear relationships between features and churn. Non-linear models might capture more complex patterns.\n",
    "\n",
    "Features like tenure, customer lifetime value, or qualitative feedback were not included in the dataset and could provide additional predictive power.\n",
    "\n",
    "Logistic Regression uses a fixed decision threshold (default = 0.5). This threshold may not align with the business priority of minimizing false negatives (missed churn cases)."
   ]
  },
  {
   "cell_type": "markdown",
   "metadata": {},
   "source": [
    "# Next Steps"
   ]
  },
  {
   "cell_type": "markdown",
   "metadata": {},
   "source": [
    "For next steps, I'd be interested testing on more advanced models like Random Forest or Gradient Boosting, which handle imbalanced datasets better and can capture non-linear relationships.\n",
    "\n",
    "I'd also be interested in adjusting the decision threshold. We could lower the classification threshold to 0.3-0.4 to achieve a better precision-recall balance for churn cases.\n",
    "\n",
    "To improve data collection we could include features like tenure, average monthly charges, customer satisfaction ratings, or billing disputes to better capture factors driving churn.\n",
    "\n",
    "Lastly, we could deploy the model in a live environment to predict churn and measure the effectiveness of interventions."
   ]
  }
 ],
 "metadata": {
  "kernelspec": {
   "display_name": "Python 3",
   "language": "python",
   "name": "python3"
  },
  "language_info": {
   "codemirror_mode": {
    "name": "ipython",
    "version": 3
   },
   "file_extension": ".py",
   "mimetype": "text/x-python",
   "name": "python",
   "nbconvert_exporter": "python",
   "pygments_lexer": "ipython3",
   "version": "3.8.5"
  }
 },
 "nbformat": 4,
 "nbformat_minor": 4
}
